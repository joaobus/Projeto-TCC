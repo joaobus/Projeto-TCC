{
 "cells": [
  {
   "cell_type": "code",
   "execution_count": 1,
   "metadata": {},
   "outputs": [],
   "source": [
    "from params import obter_parametros\n",
    "from classes.SistemaFisico import Misturador\n",
    "from classes.AnalisadorDeConstantes import AnalisadorDeConstantes\n",
    "from classes.GeradorDeDisturbios import GeradorDeDisturbios\n",
    "\n",
    "sistema_fisico = Misturador()\n",
    "#degrau = GeradorDeDisturbios().degrau(0.1,10)\n",
    "\n",
    "#analisador = AnalisadorDeConstantes(sistema_fisico,Rmax=0.01,tsample_inicial=1e-5,disturbio=degrau)"
   ]
  },
  {
   "cell_type": "code",
   "execution_count": null,
   "metadata": {},
   "outputs": [],
   "source": [
    "import random\n",
    "\n",
    "for y in range(1000) :\n",
    "    try:\n",
    "        x = round(random.uniform(-1, 1), 4)\n",
    "        degrau = GeradorDeDisturbios().degrau(x,10)\n",
    "        analisador = AnalisadorDeConstantes(sistema_fisico,Rmax=0.01,tsample_inicial=1e-5,disturbio=degrau)\n",
    "        analisador.otimizar_constantes().escrever_no_banco()\n",
    "    except:\n",
    "        pass\n",
    "    "
   ]
  },
  {
   "cell_type": "code",
   "execution_count": 2,
   "metadata": {},
   "outputs": [
    {
     "name": "stdout",
     "output_type": "stream",
     "text": [
      "0.0032927266737646757\n"
     ]
    }
   ],
   "source": [
    "analisador.otimizar_constantes().escrever_no_banco()"
   ]
  },
  {
   "cell_type": "code",
   "execution_count": 3,
   "metadata": {},
   "outputs": [
    {
     "name": "stdout",
     "output_type": "stream",
     "text": [
      "[-17.76383277236902, 0.12245013412403068, 0.00560997747824822, -37.1234979056875, 1.729741594527842, 0.005526243784636278]\n"
     ]
    }
   ],
   "source": [
    "print(analisador.melhores_constantes)"
   ]
  },
  {
   "cell_type": "code",
   "execution_count": 4,
   "metadata": {},
   "outputs": [
    {
     "name": "stdout",
     "output_type": "stream",
     "text": [
      "0.018785388481583114\n"
     ]
    }
   ],
   "source": [
    "degrau = GeradorDeDisturbios().degrau(-0.1,10)\n",
    "analisador = AnalisadorDeConstantes(sistema_fisico,Rmax=0.01,tsample_inicial=1e-5,disturbio=degrau)\n",
    "analisador.otimizar_constantes().escrever_no_banco()"
   ]
  },
  {
   "cell_type": "code",
   "execution_count": 5,
   "metadata": {},
   "outputs": [
    {
     "name": "stdout",
     "output_type": "stream",
     "text": [
      "[-38.118662284137415, 1.4510865492085316, 0.008017541673329418, -14.021218228093183, 2.0128377486430784, 0.008819170711543551]\n"
     ]
    }
   ],
   "source": [
    "print(analisador.melhores_constantes)"
   ]
  }
 ],
 "metadata": {
  "kernelspec": {
   "display_name": "base",
   "language": "python",
   "name": "python3"
  },
  "language_info": {
   "codemirror_mode": {
    "name": "ipython",
    "version": 3
   },
   "file_extension": ".py",
   "mimetype": "text/x-python",
   "name": "python",
   "nbconvert_exporter": "python",
   "pygments_lexer": "ipython3",
   "version": "3.11.5"
  },
  "orig_nbformat": 4,
  "vscode": {
   "interpreter": {
    "hash": "f08154012ddadd8e950e6e9e035c7a7b32c136e7647e9b7c77e02eb723a8bedb"
   }
  }
 },
 "nbformat": 4,
 "nbformat_minor": 2
}
