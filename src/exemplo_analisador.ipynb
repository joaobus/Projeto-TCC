{
 "cells": [
  {
   "cell_type": "code",
   "execution_count": 1,
   "metadata": {},
   "outputs": [],
   "source": [
    "from params import obter_parametros\n",
    "from classes.SistemaFisico import Misturador\n",
    "from classes.AnalisadorDeConstantes import AnalisadorDeConstantes\n",
    "from classes.GeradorDeDisturbios import GeradorDeDisturbios\n",
    "\n",
    "sistema_fisico = Misturador()\n",
    "degrau = GeradorDeDisturbios(5).degrau(0.1,10)\n",
    "\n",
    "analisador = AnalisadorDeConstantes(sistema_fisico,Rmax=0.01,tsample_inicial=1e-5,disturbio=degrau)"
   ]
  },
  {
   "cell_type": "code",
   "execution_count": 3,
   "metadata": {},
   "outputs": [],
   "source": [
    "analisador.otimizar_constantes().escrever_no_banco()"
   ]
  },
  {
   "cell_type": "code",
   "execution_count": 4,
   "metadata": {},
   "outputs": [
    {
     "name": "stdout",
     "output_type": "stream",
     "text": [
      "[-25.627478008818997, 1.0531016718769413, 0.0009915877168545162, -6.521609825219969, 2.4872959336694382, 0.0013213516019901204]\n"
     ]
    }
   ],
   "source": [
    "print(analisador.melhores_constantes)"
   ]
  },
  {
   "cell_type": "code",
   "execution_count": 5,
   "metadata": {},
   "outputs": [],
   "source": [
    "degrau = GeradorDeDisturbios(5).degrau(-0.1,10)\n",
    "analisador = AnalisadorDeConstantes(sistema_fisico,Rmax=0.01,tsample_inicial=1e-5,disturbio=degrau)\n",
    "analisador.otimizar_constantes().escrever_no_banco()"
   ]
  },
  {
   "cell_type": "code",
   "execution_count": 6,
   "metadata": {},
   "outputs": [
    {
     "name": "stdout",
     "output_type": "stream",
     "text": [
      "[-16.984420921421275, 4.962502920366148, 0.005196445232905289, -6.6599106718051075, 3.1264119355260167, 0.007612295879186303]\n"
     ]
    }
   ],
   "source": [
    "print(analisador.melhores_constantes)"
   ]
  }
 ],
 "metadata": {
  "kernelspec": {
   "display_name": "base",
   "language": "python",
   "name": "python3"
  },
  "language_info": {
   "codemirror_mode": {
    "name": "ipython",
    "version": 3
   },
   "file_extension": ".py",
   "mimetype": "text/x-python",
   "name": "python",
   "nbconvert_exporter": "python",
   "pygments_lexer": "ipython3",
   "version": "3.9.12"
  },
  "orig_nbformat": 4,
  "vscode": {
   "interpreter": {
    "hash": "f08154012ddadd8e950e6e9e035c7a7b32c136e7647e9b7c77e02eb723a8bedb"
   }
  }
 },
 "nbformat": 4,
 "nbformat_minor": 2
}
