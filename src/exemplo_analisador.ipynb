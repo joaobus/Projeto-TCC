{
 "cells": [
  {
   "cell_type": "code",
   "execution_count": null,
   "metadata": {},
   "outputs": [],
   "source": [
    "from params import obter_parametros\n",
    "from classes.SistemaFisico import Misturador\n",
    "from classes.AnalisadorDeConstantes import AnalisadorDeConstantes\n",
    "from classes.GeradorDeDisturbios import GeradorDeDisturbios\n",
    "\n",
    "sistema_fisico = Misturador()\n",
    "degrau = GeradorDeDisturbios().degrau(0.1,10)\n",
    "\n",
    "analisador = AnalisadorDeConstantes(sistema_fisico,Rmax=0.01,tsample_inicial=1e-5,disturbio=degrau)"
   ]
  },
  {
   "cell_type": "code",
   "execution_count": null,
   "metadata": {},
   "outputs": [],
   "source": [
    "analisador.otimizar_constantes().escrever_no_banco()"
   ]
  },
  {
   "cell_type": "code",
   "execution_count": null,
   "metadata": {},
   "outputs": [],
   "source": [
    "print(analisador.melhores_constantes)"
   ]
  },
  {
   "cell_type": "code",
   "execution_count": null,
   "metadata": {},
   "outputs": [],
   "source": [
    "degrau = GeradorDeDisturbios().degrau(-0.1,10)\n",
    "analisador = AnalisadorDeConstantes(sistema_fisico,Rmax=0.01,tsample_inicial=1e-5,disturbio=degrau)\n",
    "analisador.otimizar_constantes().escrever_no_banco()"
   ]
  },
  {
   "cell_type": "code",
   "execution_count": 5,
   "metadata": {},
   "outputs": [
    {
     "name": "stdout",
     "output_type": "stream",
     "text": [
      "[-48.2925798195449, 1.8349701735736519, 0.003504056582544228, -33.937728985079175, 2.163100057962604, 0.005729785388318932]\n"
     ]
    }
   ],
   "source": [
    "print(analisador.melhores_constantes)"
   ]
  }
 ],
 "metadata": {
  "kernelspec": {
   "display_name": "base",
   "language": "python",
   "name": "python3"
  },
  "language_info": {
   "codemirror_mode": {
    "name": "ipython",
    "version": 3
   },
   "file_extension": ".py",
   "mimetype": "text/x-python",
   "name": "python",
   "nbconvert_exporter": "python",
   "pygments_lexer": "ipython3",
   "version": "3.11.4"
  },
  "orig_nbformat": 4,
  "vscode": {
   "interpreter": {
    "hash": "f08154012ddadd8e950e6e9e035c7a7b32c136e7647e9b7c77e02eb723a8bedb"
   }
  }
 },
 "nbformat": 4,
 "nbformat_minor": 2
}
